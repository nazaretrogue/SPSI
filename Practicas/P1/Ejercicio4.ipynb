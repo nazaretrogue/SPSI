{
 "cells": [
  {
   "cell_type": "code",
   "execution_count": 12,
   "metadata": {},
   "outputs": [],
   "source": [
    "# Calcula la solución de una congruencia\n",
    "def solCongruencia(a, b, m):\n",
    "    #a, b, m = int(a), int(b), int(m)\n",
    "    \n",
    "    x = xgcd(m,a) # Algoritmo extendido de Euclides\n",
    "    \n",
    "    if b%x[0]:\n",
    "        return [0,0] # Si no hay solución se devuelve [0, 0]\n",
    "    \n",
    "    else: \n",
    "        m = m//x[0]\n",
    "        b = b//x[0]\n",
    "        \n",
    "        return [b*x[2]%m, m] # Si hay solución, se devuelve"
   ]
  },
  {
   "cell_type": "code",
   "execution_count": 13,
   "metadata": {},
   "outputs": [],
   "source": [
    "# Calcula la solución de un sistema con la ayuda de la función solCongruencia\n",
    "def sistemaCongruencias(l):\n",
    "    s = [0, 1]\n",
    "    \n",
    "    # Mientras haya ecuaciones en el sistema y cada una de ellas tenga solución\n",
    "    while len(l)>2 and s[1]:\n",
    "        t = solCongruencia(l[0]*s[1], l[1]-l[0]*s[0], l[2])\n",
    "        s = [s[0]+s[1]*t[0], t[1]*s[1]]\n",
    "        l[0:3] = []\n",
    "        \n",
    "    if s[1]:\n",
    "        return s # Si hay solución, se devuelve\n",
    "    \n",
    "    else:\n",
    "        return \"El sistema no tiene solucion\" # Si no hay solución, se indica que no hay"
   ]
  },
  {
   "cell_type": "code",
   "execution_count": 14,
   "metadata": {},
   "outputs": [
    {
     "data": {
      "text/plain": [
       "'El sistema no tiene solucion'"
      ]
     },
     "execution_count": 14,
     "metadata": {},
     "output_type": "execute_result"
    }
   ],
   "source": [
    "# Comprobamos que calcula correctamente congruencias de enteros\n",
    "sistemaCongruencias([2,2,4,3,6,12])"
   ]
  },
  {
   "cell_type": "code",
   "execution_count": 15,
   "metadata": {},
   "outputs": [
    {
     "data": {
      "text/plain": [
       "[19, 20]"
      ]
     },
     "execution_count": 15,
     "metadata": {},
     "output_type": "execute_result"
    }
   ],
   "source": [
    "# Comprobamos que calcula sistemas de ecuaciones en congruencias de enteros\n",
    "sistemaCongruencias([4,6,10,9,3,12])"
   ]
  },
  {
   "cell_type": "code",
   "execution_count": 16,
   "metadata": {},
   "outputs": [],
   "source": [
    "# Se define el anillo de polinomios (en Z3 en este caso, por ejemplo)\n",
    "# Si se pusiera otro número, el 5 por ejemplo, sería un anillo en Z5\n",
    "Z.<x>=GF(3)[];"
   ]
  },
  {
   "cell_type": "code",
   "execution_count": 17,
   "metadata": {},
   "outputs": [],
   "source": [
    "# Se definen los polinomios\n",
    "a = Z(x^7+2*x^3+x+2);\n",
    "b = Z(2*x^3+x^2+x+2);\n",
    "m = Z(x^4+x^3+x^2+x+1);"
   ]
  },
  {
   "cell_type": "code",
   "execution_count": 18,
   "metadata": {},
   "outputs": [
    {
     "data": {
      "text/plain": [
       "[1, x^4 + x^3 + x^2 + x + 1]"
      ]
     },
     "execution_count": 18,
     "metadata": {},
     "output_type": "execute_result"
    }
   ],
   "source": [
    "# Comprobamos que calcula bien congruencias de polinomios\n",
    "solCongruencia(a, b, m)"
   ]
  },
  {
   "cell_type": "code",
   "execution_count": null,
   "metadata": {},
   "outputs": [],
   "source": []
  }
 ],
 "metadata": {
  "kernelspec": {
   "display_name": "SageMath 8.8",
   "language": "sage",
   "name": "sagemath"
  },
  "language_info": {
   "codemirror_mode": {
    "name": "ipython",
    "version": 2
   },
   "file_extension": ".py",
   "mimetype": "text/x-python",
   "name": "python",
   "nbconvert_exporter": "python",
   "pygments_lexer": "ipython2",
   "version": "2.7.15"
  }
 },
 "nbformat": 4,
 "nbformat_minor": 2
}
