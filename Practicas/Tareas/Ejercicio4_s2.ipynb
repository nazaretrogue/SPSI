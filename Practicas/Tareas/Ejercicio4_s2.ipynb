{
 "cells": [
  {
   "cell_type": "markdown",
   "metadata": {},
   "source": [
    "# Sistemas de ecuaciones en congruencias"
   ]
  },
  {
   "cell_type": "markdown",
   "metadata": {},
   "source": [
    "## Autora: Nazaret Román Guerrero\n",
    "\n",
    "### ¿Qué hace el programa?\n",
    "\n",
    "La función *sistemaCongruencias* recibe una lista de factores de las congruencias del sistema y busca si tiene o no solución.\n",
    "\n",
    "Para poder calcular si un sistema de ecuaciones en congruencias, tanto de números enteros como de polinomios de un anillo, se ha creado una función, *solCongruencia*, que recibe los factores de una congruencia y mediante el **algoritmo extendido de Euclides** se calcula si tiene solución o no.\n",
    "\n",
    "Para cada congruencia del sistema, en el caso de que no tenga solución, se devuelve [0, 0] como valores, en el caso de que sí tenga, se devuelve ésta.\n",
    "\n",
    "### Paradigma de programación procedural\n",
    "\n",
    "He seguido el paradigma de programación procedural ya que se simplifacaba un poco. Hacer una clase Congruencia complicaba un poco el entendimiento general del funcionamiento por lo que he preferido seguir un paradigma clásico para que se entendiera mejor. Aunque no se complicaba excesivamente, si un usuario con poca experiencia en programación viese la clase, quizá le costaría algo más de esfuerzo para entender lo que estaba pasando; por eso he optado por algo que se entendiese hasta para los programadores más novatos."
   ]
  },
  {
   "cell_type": "code",
   "execution_count": 1,
   "metadata": {},
   "outputs": [],
   "source": [
    "# Calcula la solución de una congruencia\n",
    "def solCongruencia(a, b, m):\n",
    "    #a, b, m = int(a), int(b), int(m)\n",
    "    \n",
    "    x = xgcd(m,a) # Algoritmo extendido de Euclides\n",
    "    \n",
    "    if b%x[0]:\n",
    "        return [0,0] # Si no hay solución se devuelve [0, 0]\n",
    "    \n",
    "    else: \n",
    "        m = m//x[0]\n",
    "        b = b//x[0]\n",
    "        \n",
    "        return [b*x[2]%m, m] # Si hay solución, se devuelve"
   ]
  },
  {
   "cell_type": "code",
   "execution_count": 2,
   "metadata": {},
   "outputs": [],
   "source": [
    "# Calcula la solución de un sistema con la ayuda de la función solCongruencia\n",
    "def sistemaCongruencias(l):\n",
    "    s = [0, 1]\n",
    "    \n",
    "    # Mientras haya ecuaciones en el sistema y cada una de ellas tenga solución\n",
    "    while len(l)>2 and s[1]:\n",
    "        t = solCongruencia(l[0]*s[1], l[1]-l[0]*s[0], l[2])\n",
    "        s = [s[0]+s[1]*t[0], t[1]*s[1]]\n",
    "        l[0:3] = []\n",
    "        \n",
    "    if s[1]:\n",
    "        return s # Si hay solución, se devuelve\n",
    "    \n",
    "    else:\n",
    "        return \"El sistema no tiene solucion\" # Si no hay solución, se indica que no hay"
   ]
  },
  {
   "cell_type": "code",
   "execution_count": 3,
   "metadata": {},
   "outputs": [
    {
     "data": {
      "text/plain": [
       "'El sistema no tiene solucion'"
      ]
     },
     "execution_count": 3,
     "metadata": {},
     "output_type": "execute_result"
    }
   ],
   "source": [
    "# Comprobamos que calcula correctamente congruencias de enteros\n",
    "sistemaCongruencias([2,2,4,3,6,12])"
   ]
  },
  {
   "cell_type": "code",
   "execution_count": 4,
   "metadata": {},
   "outputs": [
    {
     "data": {
      "text/plain": [
       "[19, 20]"
      ]
     },
     "execution_count": 4,
     "metadata": {},
     "output_type": "execute_result"
    }
   ],
   "source": [
    "# Comprobamos que calcula sistemas de ecuaciones en congruencias de enteros\n",
    "sistemaCongruencias([4,6,10,9,3,12])"
   ]
  },
  {
   "cell_type": "code",
   "execution_count": 5,
   "metadata": {},
   "outputs": [],
   "source": [
    "# Se define el anillo de polinomios (en Z[x]3 en este caso, por ejemplo)\n",
    "# Si se pusiera otro número, el 5 por ejemplo, sería un anillo en Z[x]5\n",
    "Z.<x>=GF(3)[];"
   ]
  },
  {
   "cell_type": "code",
   "execution_count": 6,
   "metadata": {},
   "outputs": [],
   "source": [
    "# Se definen los polinomios\n",
    "a = Z(x^7+2*x^3+x+2);\n",
    "b = Z(2*x^3+x^2+x+2);\n",
    "m = Z(x^4+x^3+x^2+x+1);"
   ]
  },
  {
   "cell_type": "code",
   "execution_count": 7,
   "metadata": {},
   "outputs": [
    {
     "data": {
      "text/plain": [
       "[1, x^4 + x^3 + x^2 + x + 1]"
      ]
     },
     "execution_count": 7,
     "metadata": {},
     "output_type": "execute_result"
    }
   ],
   "source": [
    "# Comprobamos que calcula bien congruencias de polinomios\n",
    "solCongruencia(a, b, m)"
   ]
  },
  {
   "cell_type": "code",
   "execution_count": 13,
   "metadata": {},
   "outputs": [
    {
     "data": {
      "text/plain": [
       "[0, 2]"
      ]
     },
     "execution_count": 13,
     "metadata": {},
     "output_type": "execute_result"
    }
   ],
   "source": [
    "key_a = 17*a+b;\n",
    "key_b = 8*a+b;\n",
    "key_c = 13*a+b;\n",
    "\n",
    "sistemaCongruencias([key_a, 6, 26, key_b, 25, 26, key_c, 0, 26])"
   ]
  },
  {
   "cell_type": "code",
   "execution_count": 14,
   "metadata": {},
   "outputs": [
    {
     "name": "stdout",
     "output_type": "stream",
     "text": [
      "(1, 3, -1)\n"
     ]
    }
   ],
   "source": [
    "print xgcd(9, 26)"
   ]
  },
  {
   "cell_type": "code",
   "execution_count": 22,
   "metadata": {},
   "outputs": [
    {
     "data": {
      "text/plain": [
       "[13, 26]"
      ]
     },
     "execution_count": 22,
     "metadata": {},
     "output_type": "execute_result"
    }
   ],
   "source": [
    "solCongruencia(1, 1131, 26)"
   ]
  },
  {
   "cell_type": "code",
   "execution_count": 19,
   "metadata": {},
   "outputs": [
    {
     "data": {
      "text/plain": [
       "13"
      ]
     },
     "execution_count": 19,
     "metadata": {},
     "output_type": "execute_result"
    }
   ],
   "source": [
    "1131%26"
   ]
  },
  {
   "cell_type": "code",
   "execution_count": 23,
   "metadata": {},
   "outputs": [
    {
     "data": {
      "text/plain": [
       "18"
      ]
     },
     "execution_count": 23,
     "metadata": {},
     "output_type": "execute_result"
    }
   ],
   "source": [
    "-60%26"
   ]
  },
  {
   "cell_type": "code",
   "execution_count": null,
   "metadata": {},
   "outputs": [],
   "source": []
  }
 ],
 "metadata": {
  "kernelspec": {
   "display_name": "SageMath 8.8",
   "language": "sage",
   "name": "sagemath"
  },
  "language_info": {
   "codemirror_mode": {
    "name": "ipython",
    "version": 2
   },
   "file_extension": ".py",
   "mimetype": "text/x-python",
   "name": "python",
   "nbconvert_exporter": "python",
   "pygments_lexer": "ipython2",
   "version": "2.7.15"
  }
 },
 "nbformat": 4,
 "nbformat_minor": 2
}
