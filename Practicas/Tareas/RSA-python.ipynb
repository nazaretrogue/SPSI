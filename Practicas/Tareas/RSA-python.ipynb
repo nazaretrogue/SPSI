{
 "cells": [
  {
   "cell_type": "markdown",
   "metadata": {
    "collapsed": false
   },
   "source": [
    "## Ejercicio 1"
   ]
  },
  {
   "cell_type": "code",
   "execution_count": 1,
   "metadata": {
    "collapsed": false
   },
   "outputs": [
   ],
   "source": [
    "from Crypto.PublicKey import RSA\n",
    "\n",
    "def generarClave():\n",
    "    private_key = RSA.generate(2048) # Generamos la clave privada\n",
    "    public_key = private_key.publickey() # Extraemos la clave pública asociada a la privada\n",
    "    \n",
    "    # Devolvemos la clave completa\n",
    "    return [private_key, public_key]"
   ]
  },
  {
   "cell_type": "code",
   "execution_count": 2,
   "metadata": {
    "collapsed": false
   },
   "outputs": [
    {
     "name": "stdout",
     "output_type": "stream",
     "text": [
      "-----BEGIN PUBLIC KEY-----\n",
      "MIIBIjANBgkqhkiG9w0BAQEFAAOCAQ8AMIIBCgKCAQEAkU/n2Dwl+z2Xhwmtz6Z9\n",
      "Blh/AY0HKW+gN5aPCWQrefcSyXf3ClUi1JqCgLaKd0LDRNx+jTVmizLbZutY5Tax\n",
      "8pvet+kFVnSjrJsji0FOpFuS73ApA6WXZsIYUhW1ZJKEh7mbZHzWn9LfUJYKBy6h\n",
      "y91ig7HTu2BfD3ofQRKATlyXnd6L1aLAnT3JAlf+CmFX/9hCYQy19h4G2tMENmsv\n",
      "Jeif3VnItHV15uxlqLMCUVkoQSanesaseraG9/Z8E17AmpS+bLMDtPXwQcAP/jML\n",
      "X5sA5erOb1Nj0UZ/d9qdSKwQQA9oxoeiaDgg6ipl33aPkSShKDLYCaIdP/Vu4Q2U\n",
      "7wIDAQAB\n",
      "-----END PUBLIC KEY-----\n"
     ]
    }
   ],
   "source": [
    "# Generamos una clave para A\n",
    "key_A = generarClave()\n",
    "\n",
    "# Solo mostravos la clave PÚBLICA\n",
    "print(key_A[1].exportKey('PEM').decode('ascii'))"
   ]
  },
  {
   "cell_type": "markdown",
   "metadata": {
    "collapsed": false
   },
   "source": [
    "## Ejercicio 2"
   ]
  },
  {
   "cell_type": "code",
   "execution_count": 3,
   "metadata": {
    "collapsed": false
   },
   "outputs": [
    {
     "name": "stdout",
     "output_type": "stream",
     "text": [
      "(\"H\\xe8AK!\\xfe\\t\\xba>\\xa9\\xa0-V\\x17/\\xef\\xe6Pz\\xac\\xc8\\x7f\\xe5d)\\x91\\xbc\\xbecL\\x81\\x15\\xb5\\xe6m\\x0f\\x8b #\\xee\\xdbyu<\\x04)\\x8d\\xbc\\xcb\\xf7\\x07\\xe8\\x8c9\\xa7\\xd9D\\xdf\\xa9\\x14\\xc4R\\\\T\\xceI\\xdf\\x8b\\x83<\\xe7;-\\xaa\\x1dZ\\xf2\\xfd\\xf9wxU\\xeee>\\xdd\\xe1\\xf4i\\x14-\\\\\\xb7$r\\x92-9\\xb0,\\x81i\\xdff\\x7f\\x12\\x00'\\r\\xbf\\xcbc\\xf6M\\x1a\\xebg=\\xd2\\x94F\\xa9\\xda\\xafA\\x97\\xd4\\x0b\\xa2\\x15\\x12\\x05\\xb3\\xc1\\xda\\x91hY[$u\\x13\\xa3\\x1f7pP\\x8bAb\\x0e\\x9c\\xb7V\\xa3\\xa2\\xa9\\\\\\xa2\\xc4\\xd3\\x14\\xe9\\xc7\\xf6\\x04\\xecV\\x19\\x03\\x0e\\x8c8\\xa2\\xe8%\\xe1\\xb2\\x14NAr\\xd2\\x17|\\xad\\xa5\\x02/\\n\\x99\\x82%Xh\\xc6;c\\xa3\\xf5\\x8b\\x02JNp\\xaf'\\xce\\xcf\\xe6\\x85W\\xf4'j>`*\\xd3\\t\\r\\x8b\\xd3=\\x9f\\x04+.\\x1c4c\\xc8H\\x8f\\x9a\\xe2Y\\xd9 9\\xff\\x978]\\x91=\\xfa\\xacl\\xab\\xb1\\x9c\\x852Z%\",)\n",
      "\n",
      "\n",
      "voyaenviarunmensajesecreto\n"
     ]
    }
   ],
   "source": [
    "from Crypto.Hash import MD5\n",
    "import os\n",
    "\n",
    "# Mensaje que A envía a B\n",
    "mensaje_A_B = \"voyaenviarunmensajesecreto\"\n",
    "\n",
    "# Lo firmamos con la clave privada de A\n",
    "hash_firma = MD5.new(mensaje_A_B).digest()\n",
    "\n",
    "firma = key_A[0].sign(hash_firma, '')\n",
    "\n",
    "# Generamos una clave para B\n",
    "key_B = generarClave()\n",
    "\n",
    "# A cifra el texto con la clave pública de B\n",
    "texto_cifrado = key_B[1].encrypt(mensaje_A_B, 64)\n",
    "\n",
    "# Mostramos el texto cifrado\n",
    "print(texto_cifrado)\n",
    "print(\"\\n\")\n",
    "\n",
    "# B descifra el texto con su clave privada\n",
    "descifrado = key_B[0].decrypt(texto_cifrado)\n",
    "\n",
    "# Imprimimos el texto ya descifrado\n",
    "print(descifrado)\n",
    "\n",
    "# B verifica que la firma es de A\n",
    "assert key_A[1].verify(hash_firma, firma)\n",
    "\n",
    "# Añadimos una comprobación extra a la verificación, si es otra firma, este assert no pasará\n",
    "assert not key_A[1].verify(hash_firma[:-1], firma)"
   ]
  },
  {
   "cell_type": "markdown",
   "metadata": {
    "collapsed": false
   },
   "source": [
    "## Ejercicio 3"
   ]
  },
  {
   "cell_type": "code",
   "execution_count": 4,
   "metadata": {
    "collapsed": false
   },
   "outputs": [
    {
     "name": "stdout",
     "output_type": "stream",
     "text": [
      "('\\x88Ox',)\n"
     ]
    }
   ],
   "source": [
    "from Crypto.PublicKey.RSA import construct\n",
    "\n",
    "n = long(49569253)\n",
    "e = long(3)\n",
    "mensaje = 'msg'\n",
    "\n",
    "key = construct((n, e))\n",
    "\n",
    "cifrado = key.encrypt(mensaje, None)\n",
    "\n",
    "print(cifrado)"
   ]
  }
 ],
 "metadata": {
  "kernelspec": {
   "display_name": "Python 2 (SageMath)",
   "language": "python",
   "metadata": {
    "cocalc": {
     "description": "SageMath Python 2 environment",
     "priority": 0,
     "url": "https://www.sagemath.org/"
    }
   },
   "name": "python2-sagemath"
  },
  "language_info": {
   "codemirror_mode": {
    "name": "ipython",
    "version": 2
   },
   "file_extension": ".py",
   "mimetype": "text/x-python",
   "name": "python",
   "nbconvert_exporter": "python",
   "pygments_lexer": "ipython2",
   "version": "2.7.15"
  }
 },
 "nbformat": 4,
 "nbformat_minor": 0
}