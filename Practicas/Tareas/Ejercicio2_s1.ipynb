{
 "cells": [
  {
   "cell_type": "markdown",
   "metadata": {},
   "source": [
    "# Descifrado de un mensaje con un criptosistema afín"
   ]
  },
  {
   "cell_type": "markdown",
   "metadata": {},
   "source": [
    "## Autora: Nazaret Román Guerrero\n",
    "\n",
    "### ¿Qué hace el programa?\n",
    "\n",
    "Dado un texto cifrado, el programa calcula la clave en base a las frecuencias de aparición de cada letra en dicho texto y las frecuencias de aparición de cada letra en el idioma español. Se utilizan las letras cuya frecuencia es media, es decir, no se utilizan para calcular la clave ni las letras más utilizadas ni las menos utilizadas."
   ]
  },
  {
   "cell_type": "code",
   "execution_count": 80,
   "metadata": {},
   "outputs": [],
   "source": [
    "# Texto cifrado\n",
    "C = \"BZBTJAVGQGVOTBVGTKFNGQGVMTTNWVYNBFZBATDTBZYNYTBRANBMTDTBTDEVFZBGTYTBNKNGNBWGNXKNBGTWZGVBZTFQGTNQRAWVYTGVFQTGBTXVWGNBFTMVXYTDNSNQVGTBWTTKTFTAWVLRTQNGTDTBTGZANDDTBZIKTNKEVFIGTTAIRBDNYTKNBQZTSNBLRTMZMTATAFZBIVBLRTBBRIFNGZAVBFZBGTINJAVBDVFVKVBYTKMZTUVQNBWVGYTATQWRAVQNDTABZAWTFVGTAKNBZAFTABNBQGNYTGNBYTKVDTNAVWTAJVXVNEZRANMNBWNQGVQZTYNYLRTTCQKVWVXVFZBFVXLRTTBWNBTFIGNYNQVGKNFNAVYTKDGTNYVGYTWVYNBKNBDVBNB\"\n",
    "\n",
    "# Módulo del cuerpo de enteros, Z(26), en el que estamos (el alfabeto, que cuenta con 26 letras si no usamos la Ñ)\n",
    "n = 26"
   ]
  },
  {
   "cell_type": "code",
   "execution_count": 90,
   "metadata": {},
   "outputs": [],
   "source": [
    "# Definición del alfabeto, se asocia cada letra con un valor del cuerpo Z(26)\n",
    "alfabeto = {0: 'A', 1: 'B', 2: 'C', 3: 'D', 4: 'E', 5: 'F', 6: 'G', 7: 'H', 8: 'I', 9: 'J', 10: 'K', 11: 'L', 12: 'M', 13: 'N', 14: 'O', 15: 'P', 16: 'Q', 17: 'R', 18: 'S', 19: 'T', 20: 'U', 21: 'V', 22: 'W', 23: 'X', 24: 'Y', 25: 'Z'}"
   ]
  },
  {
   "cell_type": "code",
   "execution_count": 82,
   "metadata": {},
   "outputs": [
    {
     "name": "stdout",
     "output_type": "stream",
     "text": [
      "{'A': 5.513784461152882, 'C': 0.2506265664160401, 'B': 11.027568922305765, 'E': 0.7518796992481203, 'D': 3.2581453634085213, 'G': 7.268170426065163, 'F': 4.511278195488722, 'I': 1.7543859649122806, 'H': 0.0, 'K': 3.7593984962406015, 'J': 0.7518796992481203, 'M': 1.7543859649122806, 'L': 1.2531328320802004, 'O': 0.2506265664160401, 'N': 10.776942355889725, 'Q': 4.010025062656641, 'P': 0.0, 'S': 0.5012531328320802, 'R': 2.756892230576441, 'U': 0.2506265664160401, 'T': 15.538847117794486, 'W': 3.7593984962406015, 'V': 9.523809523809524, 'Y': 4.511278195488722, 'X': 1.5037593984962405, 'Z': 4.761904761904762}\n"
     ]
    }
   ],
   "source": [
    "# Creamos un diccionario para guardar las frecuencias de cada letra del texto que se nos da cifrado\n",
    "frecuencias = {}\n",
    "\n",
    "# Inicializamos el diccionario vacío\n",
    "for f in xrange(ord('A'), ord('Z')+1):\n",
    "    index = chr(f)\n",
    "    frecuencias[index] = 0\n",
    "\n",
    "# Por cada letra que nos encontremos en el texto, el contador de dicha letra aumenta en 1\n",
    "for f in range(len(C)):\n",
    "    index = C[f]\n",
    "    frecuencias[index] = frecuencias[index]+1\n",
    "    \n",
    "# Normalizamos la aparición de cada letra en el texto, es decir calcularmos el porcentaje de aparición de cada una\n",
    "for f in frecuencias:\n",
    "    frecuencias[f] = float((frecuencias[f]/len(C))*100)"
   ]
  },
  {
   "cell_type": "code",
   "execution_count": 83,
   "metadata": {},
   "outputs": [
    {
     "name": "stdout",
     "output_type": "stream",
     "text": [
      "[('H', 0.0), ('P', 0.0), ('C', 0.2506265664160401), ('O', 0.2506265664160401), ('U', 0.2506265664160401), ('S', 0.5012531328320802), ('E', 0.7518796992481203), ('J', 0.7518796992481203), ('L', 1.2531328320802004), ('X', 1.5037593984962405), ('I', 1.7543859649122806), ('M', 1.7543859649122806), ('R', 2.756892230576441), ('D', 3.2581453634085213), ('K', 3.7593984962406015), ('W', 3.7593984962406015), ('Q', 4.010025062656641), ('F', 4.511278195488722), ('Y', 4.511278195488722), ('Z', 4.761904761904762), ('A', 5.513784461152882), ('G', 7.268170426065163), ('V', 9.523809523809524), ('N', 10.776942355889725), ('B', 11.027568922305765), ('T', 15.538847117794486)]\n"
     ]
    }
   ],
   "source": [
    "import operator\n",
    "\n",
    "# Ordenamos las frecuencias de menor número de apariciones a mayor, y las mostramos para ver las letras con\n",
    "# frecuencias medias y que nos sea más fácil decidir las letra a utilizar más tarde\n",
    "frecuencias_ordenadas = sorted(frecuencias.items(), key=operator.itemgetter(1))\n",
    "print frecuencias_ordenadas"
   ]
  },
  {
   "cell_type": "code",
   "execution_count": 84,
   "metadata": {},
   "outputs": [
    {
     "name": "stdout",
     "output_type": "stream",
     "text": [
      "[('W', 0.0100000000000000), ('K', 0.0200000000000000), ('X', 0.220000000000000), ('J', 0.440000000000000), ('Z', 0.520000000000000), ('F', 0.690000000000000), ('H', 0.700000000000000), ('Q', 0.880000000000000), ('V', 0.900000000000000), ('Y', 0.900000000000000), ('G', 1.01000000000000), ('B', 1.42000000000000), ('P', 2.51000000000000), ('M', 3.15000000000000), ('U', 3.93000000000000), ('T', 4.63000000000000), ('C', 4.68000000000000), ('L', 4.97000000000000), ('D', 5.86000000000000), ('I', 6.25000000000000), ('N', 6.71000000000000), ('R', 6.87000000000000), ('S', 7.98000000000000), ('O', 8.68000000000000), ('A', 12.5300000000000), ('E', 13.6800000000000)]\n"
     ]
    }
   ],
   "source": [
    "# Creamos un diccionario con las frecuencias de las letras en español. Información sacada de \n",
    "# https://es.wikipedia.org/wiki/Frecuencia_de_aparici%C3%B3n_de_letras\n",
    "fq_espagnol = {\"A\": 12.53, \"B\": 1.42, \"C\": 4.68, \"D\": 5.86, \"E\": 13.68, \"F\": 0.69, \"G\": 1.01, \"H\": 0.7, \"I\": 6.25, \"J\": 0.44, \"K\": 0.02, \"L\": 4.97, \"M\": 3.15, \"N\": 6.71, \"O\": 8.68, \"P\": 2.51, \"Q\": 0.88, \"R\": 6.87, \"S\": 7.98, \"T\": 4.63, \"U\": 3.93, \"V\": 0.9, \"W\": 0.01, \"X\": 0.22, \"Y\": 0.9, \"Z\": 0.52}\n",
    "\n",
    "# Ordenamos el diccionario y lo mostramos, igual que en caso anterior\n",
    "fq_espagnol = sorted(fq_espagnol.items(), key=operator.itemgetter(1))\n",
    "print fq_espagnol"
   ]
  },
  {
   "cell_type": "code",
   "execution_count": 85,
   "metadata": {},
   "outputs": [],
   "source": [
    "# Necesitamos calcular una congruencia para poder sacar la clave. Por ello, es necesario utilizar la función\n",
    "# implementada en la tarea 1.\n",
    "\n",
    "# Calcula la solución de una congruencia\n",
    "def solCongruencia(a, b, m):\n",
    "    #a, b, m = int(a), int(b), int(m)\n",
    "    \n",
    "    x = xgcd(m,a) # Algoritmo extendido de Euclides\n",
    "    \n",
    "    if b%x[0]:\n",
    "        return [0,0] # Si no hay solución se devuelve [0, 0]\n",
    "    \n",
    "    else: \n",
    "        m = m//x[0]\n",
    "        b = b//x[0]\n",
    "        \n",
    "        return [b*x[2]%m, m] # Si hay solución, se devuelve"
   ]
  },
  {
   "cell_type": "code",
   "execution_count": 86,
   "metadata": {},
   "outputs": [],
   "source": [
    "# Función que devuelve la clave del diccionario según el valor\n",
    "def getKey(valor): \n",
    "    for key, value in alfabeto.items(): \n",
    "         if valor == value: \n",
    "            return key "
   ]
  },
  {
   "cell_type": "code",
   "execution_count": 87,
   "metadata": {},
   "outputs": [],
   "source": [
    "# Función para calcular la clave de cifrado.\n",
    "# Puesto que las primeras letras que encontramos con apariciones medias \"normales\" (ni muy altas ni muy bajas),\n",
    "# son las letras G y Z, suponemos que coinciden con las primeras letras con una frecuencia media en el español\n",
    "# que son la R y la I respectivamente. Por tanto, las usamos para calcular la clave\n",
    "def calcularClave():\n",
    "    D = getKey('R') - getKey('I') # Extraemos el valor del diccionario de R e I para calcular el inverso después \n",
    "    inverso_D = solCongruencia(D, 1, n) # Calculamos el inverso\n",
    "    \n",
    "    # Formamos los valores de las congruencias que nos darán la a y la b de la clave de cifrado. Para ello,\n",
    "    # utilizamos la forma:\n",
    "    # a*p+b ≡ r (mod n)\n",
    "    # a*q+b ≡ s (mod n), donde\n",
    "    # r es el valor de la letra 1 cifrada,\n",
    "    # s es el valor de la letra 2 cifrada,\n",
    "    # p y q son los valores que corresponden con las letras que hemos supuesto que descifran r y s respectivamente\n",
    "    \n",
    "    # Metodología extraída de http://practicalcryptography.com/ciphers/affine-cipher/#cryptanalysis\n",
    "    congruencia_a = getKey('G')-getKey('Z')\n",
    "    congruencia_b = getKey('R')*getKey('Z')-getKey('I')*getKey('G')\n",
    "    \n",
    "    # Resolvemos las congruencias con los valores separados\n",
    "    a = solCongruencia(1, inverso_D[0]*congruencia_a, n)\n",
    "    b = solCongruencia(1, inverso_D[0]*congruencia_b, n)\n",
    "    \n",
    "    # Obtenemos la clave de cifrado\n",
    "    clave = [a[0], b[0]]\n",
    "    \n",
    "    return clave"
   ]
  },
  {
   "cell_type": "code",
   "execution_count": 91,
   "metadata": {},
   "outputs": [],
   "source": [
    "# Función que se encarga de descifrar el mensaje con una clave\n",
    "# Para descifrar el texto es necesario utilizar la congruencia:\n",
    "# p ≡ (a^(−1)(c−b))(mod n), donde\n",
    "# es la letra del texto plano, a^(-1) la inversa de la a de la clave y c la letra del texto cifrado\n",
    "def descifrar():\n",
    "    clave = calcularClave() # Calcula la clave\n",
    "            \n",
    "    euclides = xgcd(clave[0], n) # Con el algoritmo extendido de Euclides, calculamos el inverso de a\n",
    "\n",
    "    # Si tiene solución\n",
    "    if euclides[0] == 1:\n",
    "        inverso_a = euclides[1]%n # Extraemos el inverso que hemos calculado de la estructura de datos\n",
    "        text = \"\"\n",
    "        \n",
    "        #Para cada letra del texto cifrado, aplicamos la congruencia anteriormente descrita\n",
    "        for letra in C:\n",
    "            num = (inverso_a*(ord(letra)-ord('A')-clave[1]))%n # Restamos -ord('A') por el valor del código ASCII\n",
    "            text = text+alfabeto[num] #Extraemos la letra del alfabeto\n",
    "            \n",
    "        # Guardamos el texto y lo pintamos\n",
    "        texto_descifrado = \"CLAVE: (\"+str(inverso_a)+\", \"+str(clave[1])+\")\\n\\n\"+text+\"\\n\" \n",
    "        print texto_descifrado        "
   ]
  },
  {
   "cell_type": "code",
   "execution_count": 92,
   "metadata": {},
   "outputs": [
    {
     "name": "stdout",
     "output_type": "stream",
     "text": [
      "CLAVE: (5, 13)\n",
      "\n",
      "SISEGNORPROFESORELMARPROVEEATODASMISNECESIDADESUNASVECESECHOMISREDESALARASTRAYLASRETIROSIEMPREAPUNTODEROMPERSEYOTRASMEVOYDECAZAPORESTEELEMENTOQUEPARECESERINACCESIBLEALHOMBREENBUSCADELASPIEZASQUEVIVENENMISBOSQUESSUBMARINOSMISREBAGNOSCOMOLOSDELVIEJOPASTORDENEPTUNOPACENSINTEMORENLASINMENSASPRADERASDELOCEANOTENGOYOAHIUNAVASTAPROPIEDADQUEEXPLOTOYOMISMOYQUEESTASEMBRADAPORLAMANODELCREADORDETODASLASCOSAS\n",
      "\n"
     ]
    }
   ],
   "source": [
    "descifrar()"
   ]
  },
  {
   "cell_type": "code",
   "execution_count": null,
   "metadata": {},
   "outputs": [],
   "source": []
  }
 ],
 "metadata": {
  "kernelspec": {
   "display_name": "SageMath 8.8",
   "language": "sage",
   "name": "sagemath"
  },
  "language_info": {
   "codemirror_mode": {
    "name": "ipython",
    "version": 2
   },
   "file_extension": ".py",
   "mimetype": "text/x-python",
   "name": "python",
   "nbconvert_exporter": "python",
   "pygments_lexer": "ipython2",
   "version": "2.7.15"
  }
 },
 "nbformat": 4,
 "nbformat_minor": 2
}
