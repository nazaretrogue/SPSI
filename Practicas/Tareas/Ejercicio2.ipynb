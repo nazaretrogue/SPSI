{
 "cells": [
  {
   "cell_type": "code",
   "execution_count": 28,
   "metadata": {},
   "outputs": [],
   "source": [
    "C = \"BZBTJAVGQGVOTBVGTKFNGQGVMTTNWVYNBFZBATDTBZYNYTBRANBMTDTBTDEVFZBGTYTBNKNGNBWGNXKNBGTWZGVBZTFQGTNQRAWVYTGVFQTGBTXVWGNBFTMVXYTDNSNQVGTBWTTKTFTAWVLRTQNGTDTBTGZANDDTBZIKTNKEVFIGTTAIRBDNYTKNBQZTSNBLRTMZMTATAFZBIVBLRTBBRIFNGZAVBFZBGTINJAVBDVFVKVBYTKMZTUVQNBWVGYTATQWRAVQNDTABZAWTFVGTAKNBZAFTABNBQGNYTGNBYTKVDTNAVWTAJVXVNEZRANMNBWNQGVQZTYNYLRTTCQKVWVXVFZBFVXLRTTBWNBTFIGNYNQVGKNFNAVYTKDGTNYVGYTWVYNBKNBDVBNB\"\n",
    "n = 26"
   ]
  },
  {
   "cell_type": "code",
   "execution_count": 29,
   "metadata": {},
   "outputs": [
    {
     "name": "stdout",
     "output_type": "stream",
     "text": [
      "['A', 'B', 'C', 'D', 'E', 'F', 'G', 'H', 'I', 'J', 'K', 'L', 'M', 'N', 'O', 'P', 'Q', 'R', 'S', 'T', 'U', 'V', 'W', 'X', 'Y', 'Z']\n"
     ]
    }
   ],
   "source": [
    "alfabeto = []\n",
    "\n",
    "for letra in xrange(ord('A'), ord('Z')+1):\n",
    "    alfabeto.append(chr(letra))\n",
    "    \n",
    "print alfabeto"
   ]
  },
  {
   "cell_type": "code",
   "execution_count": 30,
   "metadata": {},
   "outputs": [
    {
     "name": "stdout",
     "output_type": "stream",
     "text": [
      "{'A': 22, 'C': 1, 'B': 44, 'E': 3, 'D': 13, 'G': 29, 'F': 18, 'I': 7, 'H': 0, 'K': 15, 'J': 3, 'M': 7, 'L': 5, 'O': 1, 'N': 43, 'Q': 16, 'P': 0, 'S': 2, 'R': 11, 'U': 1, 'T': 62, 'W': 15, 'V': 38, 'Y': 18, 'X': 6, 'Z': 19}\n"
     ]
    }
   ],
   "source": [
    "frecuencias = {}\n",
    "\n",
    "for f in xrange(ord('A'), ord('Z')+1):\n",
    "    index = chr(f)\n",
    "    frecuencias[index] = 0\n",
    "\n",
    "for f in range(len(C)):\n",
    "    index = C[f]\n",
    "    frecuencias[index] = frecuencias[index]+1\n",
    "    \n",
    "print frecuencias"
   ]
  },
  {
   "cell_type": "code",
   "execution_count": 31,
   "metadata": {},
   "outputs": [
    {
     "name": "stdout",
     "output_type": "stream",
     "text": [
      "[('H', 0), ('P', 0), ('C', 1), ('O', 1), ('U', 1), ('S', 2), ('E', 3), ('J', 3), ('L', 5), ('X', 6), ('I', 7), ('M', 7), ('R', 11), ('D', 13), ('K', 15), ('W', 15), ('Q', 16), ('F', 18), ('Y', 18), ('Z', 19), ('A', 22), ('G', 29), ('V', 38), ('N', 43), ('B', 44), ('T', 62)]\n"
     ]
    }
   ],
   "source": [
    "import operator\n",
    "\n",
    "frecuencias_ordenadas = sorted(frecuencias.items(), key=operator.itemgetter(1))\n",
    "print frecuencias_ordenadas"
   ]
  },
  {
   "cell_type": "code",
   "execution_count": 32,
   "metadata": {},
   "outputs": [
    {
     "name": "stdout",
     "output_type": "stream",
     "text": [
      "{'A': 12.5300000000000, 'C': 4.68000000000000, 'B': 1.42000000000000, 'E': 13.6800000000000, 'D': 5.86000000000000, 'G': 1.01000000000000, 'F': 0.690000000000000, 'I': 6.25000000000000, 'H': 0.700000000000000, 'K': 0.0200000000000000, 'J': 0.440000000000000, 'M': 3.15000000000000, 'L': 4.97000000000000, 'O': 8.68000000000000, 'N': 6.71000000000000, 'Q': 0.880000000000000, 'P': 2.51000000000000, 'S': 7.98000000000000, 'R': 6.87000000000000, 'U': 3.93000000000000, 'T': 4.63000000000000, 'W': 0.0100000000000000, 'V': 0.900000000000000, 'Y': 0.900000000000000, 'X': 0.220000000000000, 'Z': 0.520000000000000}\n"
     ]
    }
   ],
   "source": [
    "fq_espagnol = {\"A\": 12.53, \"B\": 1.42, \"C\": 4.68, \"D\": 5.86, \"E\": 13.68, \"F\": 0.69, \"G\": 1.01, \"H\": 0.7, \"I\": 6.25, \"J\": 0.44, \"K\": 0.02, \"L\": 4.97, \"M\": 3.15, \"N\": 6.71, \"O\": 8.68, \"P\": 2.51, \"Q\": 0.88, \"R\": 6.87, \"S\": 7.98, \"T\": 4.63, \"U\": 3.93, \"V\": 0.9, \"W\": 0.01, \"X\": 0.22, \"Y\": 0.9, \"Z\": 0.52}\n",
    "\n",
    "print fq_espagnol"
   ]
  },
  {
   "cell_type": "code",
   "execution_count": 40,
   "metadata": {},
   "outputs": [],
   "source": [
    "def descifrar():\n",
    "    keys = []\n",
    "\n",
    "    for b in range(n):\n",
    "        for a in range(n):\n",
    "            if gcd(a, n) == 1:\n",
    "                keys.append(tuple((a, b)))\n",
    "    P = []\n",
    "\n",
    "    for key in keys:\n",
    "        text = []\n",
    "        for letra in C:\n",
    "            print letra\n",
    "            text.append(chr(((key[0]*int(letra)+key[0]*(-key[1]))%n)))\n",
    "            \n",
    "        P.append(text)\n",
    "        \n",
    "    print P"
   ]
  },
  {
   "cell_type": "code",
   "execution_count": 41,
   "metadata": {},
   "outputs": [
    {
     "name": "stdout",
     "output_type": "stream",
     "text": [
      "B\n"
     ]
    },
    {
     "ename": "ValueError",
     "evalue": "invalid literal for int() with base 10: 'B'",
     "output_type": "error",
     "traceback": [
      "\u001b[0;31m---------------------------------------------------------------------------\u001b[0m",
      "\u001b[0;31mValueError\u001b[0m                                Traceback (most recent call last)",
      "\u001b[0;32m<ipython-input-41-1305f6fa3852>\u001b[0m in \u001b[0;36m<module>\u001b[0;34m()\u001b[0m\n\u001b[0;32m----> 1\u001b[0;31m \u001b[0mdescifrar\u001b[0m\u001b[0;34m(\u001b[0m\u001b[0;34m)\u001b[0m\u001b[0;34m\u001b[0m\u001b[0m\n\u001b[0m",
      "\u001b[0;32m<ipython-input-40-09b60e7788d7>\u001b[0m in \u001b[0;36mdescifrar\u001b[0;34m()\u001b[0m\n\u001b[1;32m     12\u001b[0m         \u001b[0;32mfor\u001b[0m \u001b[0mletra\u001b[0m \u001b[0;32min\u001b[0m \u001b[0mC\u001b[0m\u001b[0;34m:\u001b[0m\u001b[0;34m\u001b[0m\u001b[0m\n\u001b[1;32m     13\u001b[0m             \u001b[0;32mprint\u001b[0m \u001b[0mletra\u001b[0m\u001b[0;34m\u001b[0m\u001b[0m\n\u001b[0;32m---> 14\u001b[0;31m             \u001b[0mtext\u001b[0m\u001b[0;34m.\u001b[0m\u001b[0mappend\u001b[0m\u001b[0;34m(\u001b[0m\u001b[0mchr\u001b[0m\u001b[0;34m(\u001b[0m\u001b[0;34m(\u001b[0m\u001b[0;34m(\u001b[0m\u001b[0mkey\u001b[0m\u001b[0;34m[\u001b[0m\u001b[0mInteger\u001b[0m\u001b[0;34m(\u001b[0m\u001b[0;36m0\u001b[0m\u001b[0;34m)\u001b[0m\u001b[0;34m]\u001b[0m\u001b[0;34m*\u001b[0m\u001b[0mint\u001b[0m\u001b[0;34m(\u001b[0m\u001b[0mletra\u001b[0m\u001b[0;34m)\u001b[0m\u001b[0;34m+\u001b[0m\u001b[0mkey\u001b[0m\u001b[0;34m[\u001b[0m\u001b[0mInteger\u001b[0m\u001b[0;34m(\u001b[0m\u001b[0;36m0\u001b[0m\u001b[0;34m)\u001b[0m\u001b[0;34m]\u001b[0m\u001b[0;34m*\u001b[0m\u001b[0;34m(\u001b[0m\u001b[0;34m-\u001b[0m\u001b[0mkey\u001b[0m\u001b[0;34m[\u001b[0m\u001b[0mInteger\u001b[0m\u001b[0;34m(\u001b[0m\u001b[0;36m1\u001b[0m\u001b[0;34m)\u001b[0m\u001b[0;34m]\u001b[0m\u001b[0;34m)\u001b[0m\u001b[0;34m)\u001b[0m\u001b[0;34m%\u001b[0m\u001b[0mn\u001b[0m\u001b[0;34m)\u001b[0m\u001b[0;34m)\u001b[0m\u001b[0;34m)\u001b[0m\u001b[0;34m\u001b[0m\u001b[0m\n\u001b[0m\u001b[1;32m     15\u001b[0m \u001b[0;34m\u001b[0m\u001b[0m\n\u001b[1;32m     16\u001b[0m         \u001b[0mP\u001b[0m\u001b[0;34m.\u001b[0m\u001b[0mappend\u001b[0m\u001b[0;34m(\u001b[0m\u001b[0mtext\u001b[0m\u001b[0;34m)\u001b[0m\u001b[0;34m\u001b[0m\u001b[0m\n",
      "\u001b[0;31mValueError\u001b[0m: invalid literal for int() with base 10: 'B'"
     ]
    }
   ],
   "source": [
    "descifrar()"
   ]
  },
  {
   "cell_type": "code",
   "execution_count": null,
   "metadata": {},
   "outputs": [],
   "source": []
  }
 ],
 "metadata": {
  "kernelspec": {
   "display_name": "SageMath 8.8",
   "language": "sage",
   "name": "sagemath"
  },
  "language_info": {
   "codemirror_mode": {
    "name": "ipython",
    "version": 2
   },
   "file_extension": ".py",
   "mimetype": "text/x-python",
   "name": "python",
   "nbconvert_exporter": "python",
   "pygments_lexer": "ipython2",
   "version": "2.7.15"
  }
 },
 "nbformat": 4,
 "nbformat_minor": 2
}
