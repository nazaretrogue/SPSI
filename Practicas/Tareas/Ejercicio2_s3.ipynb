{
 "cells": [
  {
   "cell_type": "markdown",
   "metadata": {},
   "source": [
    "# Criptosistema de Hill"
   ]
  },
  {
   "cell_type": "markdown",
   "metadata": {},
   "source": [
    "## Autora: Nazaret Román Guerrero\n",
    "\n",
    "### Implementación del sistema\n",
    "\n",
    "Se ha implementado el criptosistema de Hill que cifra mensajes y los descifra. Para ello, se han utilizado diferentes estructuras de datos y de funciones con el fin de lograr el correcto funcionamiento. Al final se hace una prueba para comprobar que en efecto el programa está funcionando."
   ]
  },
  {
   "cell_type": "code",
   "execution_count": 1,
   "metadata": {},
   "outputs": [],
   "source": [
    "# Matrix de 3x3 que se va a usar para la clave\n",
    "matriz_clave = [[0]*3 for i in range(3)]\n",
    "\n",
    "# Vector de tamaño 3 para el mensaje\n",
    "vector_mensaje = [[0] for i in range(3)]\n",
    "\n",
    "# Vector para el cifrado de tamaño 3\n",
    "vector_cifrado = [[0] for i in range(3)]"
   ]
  },
  {
   "cell_type": "code",
   "execution_count": 2,
   "metadata": {},
   "outputs": [],
   "source": [
    "# Generamos la matriz con la clave\n",
    "def getMatrizClave(clave):\n",
    "    k = 0\n",
    "    \n",
    "    for i in range(3):\n",
    "        for j in range(3):\n",
    "            matriz_clave[i][j] = ord(clave[k])%65 # Módulo 65 para codificar en caractéres ASCII en mayúscula\n",
    "            k += 1"
   ]
  },
  {
   "cell_type": "code",
   "execution_count": 3,
   "metadata": {},
   "outputs": [],
   "source": [
    "# Encriptamos el mensaje\n",
    "def encriptar(vector_mensaje):\n",
    "    for i in range(3):\n",
    "        # Inicializamos a 0 la casilla correspondiente\n",
    "        vector_cifrado[i][0] = 0\n",
    "        \n",
    "        for x in range(3):\n",
    "            # Llevamos a cabo la multiplicación de matrices para encriptar: se multiplica la matriz de la clave\n",
    "            # con el vector del mensaje y lo guardamos en el vector con el texto cifrado\n",
    "            vector_cifrado[i][0] += (matriz_clave[i][x]*vector_mensaje[x][0])\n",
    "                \n",
    "        # Tomamos los valores en módulo 26 porque es el número de las letras del alfabeto\n",
    "        vector_cifrado[i][0] = vector_cifrado[i][0]%26"
   ]
  },
  {
   "cell_type": "code",
   "execution_count": 4,
   "metadata": {},
   "outputs": [],
   "source": [
    "# Desencriptamos el mensaje\n",
    "# Para desencriptar es necesaria la inversa de la matriz de la clave, por lo que utilizamos matrices de sage\n",
    "# en esta función ya que tienen un método que calcula la inversa y es cómodo utilizar dicho método\n",
    "def desencriptar(vector_cifrado):\n",
    "    # Creamos una matriz identidad que luego vamos a modificar con las filas de la matriz de la clave\n",
    "    matriz_a_invertir = identity_matrix(3)\n",
    "    \n",
    "    # Sustituimos las filas de la matriz identidad por las filas de la matriz de la clave; con la matriz\n",
    "    # que acabamos de generar, se calculará la inversa para descifrar el texto\n",
    "    for i in range(3):\n",
    "        matriz_a_invertir[i,:] = vector(matriz_clave[i])\n",
    "        \n",
    "    for i in range(3):\n",
    "        # Inicializamos a 0 la casilla correspondiente de forma análoga a como lo hicimos en la encriptación,\n",
    "        # pero ahora se hará sobre el vector mensaje ya que se va a desencriptar\n",
    "        vector_mensaje[i][0] = 0\n",
    "        \n",
    "        for x in range(3):\n",
    "            # Calculamos la inversa de la matriz con la función inverse() de sagemath\n",
    "            inversa = matriz_a_invertir.inverse()\n",
    "            \n",
    "            # Desencriptamos el mensaje multiplicando la matriz inversa por el vector con el texto cifrado y\n",
    "            # lo guardamos en el vector del mensaje\n",
    "            vector_mensaje[i][0] += (inversa[i][x]*vector_cifrado[x][0])\n",
    "                \n",
    "        # Tomamos los valores en módulo 26 porque son las letras del alfabeto para poder leer el mensaje\n",
    "        vector_mensaje[i][0] = vector_mensaje[i][0]%26"
   ]
  },
  {
   "cell_type": "code",
   "execution_count": 5,
   "metadata": {},
   "outputs": [],
   "source": [
    "def HillCipher(mensaje_a_cifrar, clave):\n",
    "\n",
    "    # Obtenemos la matriz con la clave para poder cifrar\n",
    "    getMatrizClave(clave)\n",
    "\n",
    "    # Generamos el vector para el mensaje\n",
    "    for i in range(3):\n",
    "        # Utilizando el mensaje que nos han pasado, lo convertimos a número y aplicamos el módulo %65 porque el \n",
    "        # código ASCII, ya que se introduce en mayúsuclas\n",
    "        vector_mensaje[i][0] = ord(mensaje_a_cifrar[i])%65\n",
    "\n",
    "    # Encriptamos el mensaje\n",
    "    encriptar(vector_mensaje)\n",
    "    desencriptar(vector_cifrado)\n",
    "\n",
    "    # Generamos el texto cifrado a través del vector cifrado que hemos generado antes\n",
    "    mensaje_cifrado = []\n",
    "    \n",
    "    # Generamos el texto descifrado a través del vector del mensaje\n",
    "    mensaje_descifrado = []\n",
    "    \n",
    "    for i in range(3):\n",
    "        # Trasformamos el vector a carácter y le sumamos 65 para que se obtenga el valor de la letra en mayúscula\n",
    "        # según ASCII\n",
    "        num = vector_cifrado[i][0]+65\n",
    "        num_o = vector_mensaje[i][0]+65\n",
    "        \n",
    "        # Debemos utilizar la función unichr para que esté en formato unicode, o de lo contrario no se podrá leer\n",
    "        # Por tanto, en la salida del mensaje cifrado y el descifrado tendrán una 'u' delante que indica que\n",
    "        # está en formato unicode\n",
    "        mensaje_cifrado.append(unichr(num))\n",
    "        mensaje_descifrado.append(unichr(num_o))\n",
    "\n",
    "    # Mostramos el texto original, el texto cifrado y el texto después de descifrar el texto cifrado\n",
    "    print(\"Texto original: \", \"\".join(mensaje_a_cifrar))\n",
    "    print(\"Texto cifrado: \", \"\".join(mensaje_cifrado))\n",
    "    print(\"Texto descifrado \", \"\".join(mensaje_descifrado))"
   ]
  },
  {
   "cell_type": "code",
   "execution_count": 6,
   "metadata": {},
   "outputs": [
    {
     "name": "stdout",
     "output_type": "stream",
     "text": [
      "('Texto original: ', 'ABC')\n",
      "('Texto cifrado: ', u'AKV')\n",
      "('Texto descifrado ', u'ABC')\n"
     ]
    }
   ],
   "source": [
    "# Ejecutamos para comprobar que funciona el sistema\n",
    "HillCipher(\"ABC\", \"GYBNQKURP\")"
   ]
  }
 ],
 "metadata": {
  "kernelspec": {
   "display_name": "SageMath 8.8",
   "language": "sage",
   "name": "sagemath"
  },
  "language_info": {
   "codemirror_mode": {
    "name": "ipython",
    "version": 2
   },
   "file_extension": ".py",
   "mimetype": "text/x-python",
   "name": "python",
   "nbconvert_exporter": "python",
   "pygments_lexer": "ipython2",
   "version": "2.7.15"
  }
 },
 "nbformat": 4,
 "nbformat_minor": 2
}
