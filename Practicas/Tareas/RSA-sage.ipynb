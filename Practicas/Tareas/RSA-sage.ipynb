{
 "cells": [
  {
   "cell_type": "markdown",
   "metadata": {
    "collapsed": false
   },
   "source": [
    "## Ejercicio 4."
   ]
  },
  {
   "cell_type": "code",
   "execution_count": 27,
   "metadata": {
    "collapsed": false
   },
   "outputs": [
   ],
   "source": [
    "n_alice = 49569253\n",
    "e_alice = 1121\n",
    "mensaje_eve_alice = 16187450\n",
    "n_bob = 49569253\n",
    "e_bob = 1717\n",
    "mensaje_eve_bob = 2897699"
   ]
  },
  {
   "cell_type": "code",
   "execution_count": 28,
   "metadata": {
    "collapsed": false
   },
   "outputs": [
   ],
   "source": [
    "x = xgcd(e_alice, e_bob)"
   ]
  },
  {
   "cell_type": "code",
   "execution_count": 29,
   "metadata": {
    "collapsed": false
   },
   "outputs": [
    {
     "name": "stdout",
     "output_type": "stream",
     "text": [
      "171800\n"
     ]
    }
   ],
   "source": [
    "mensaje = power_mod(mensaje_eve_alice, x[1], n_alice)*power_mod(mensaje_eve_bob, x[2], n_bob)%n_alice\n",
    "\n",
    "print(mensaje)"
   ]
  },
  {
   "cell_type": "code",
   "execution_count": 31,
   "metadata": {
    "collapsed": false
   },
   "outputs": [
   ],
   "source": [
    "def xgcd_real(a,b):\n",
    "    signo = lambda x: x and (1, -1)[x<0]\n",
    "    m, n = int(a), int(b)\n",
    "    u0, u1 = 1, 0\n",
    "    v0, v1 = 0, 1\n",
    "    while n:\n",
    "        q = m // n\n",
    "        m, n = n, m%n\n",
    "        u0, u1 = u1, u0-q*u1\n",
    "        v0, v1 = v1, v0-q*v1\n",
    "    sg = signo(m)\n",
    "    return m*sg, u0*sg, v0*sg"
   ]
  },
  {
   "cell_type": "code",
   "execution_count": 32,
   "metadata": {
    "collapsed": false
   },
   "outputs": [
   ],
   "source": [
    "# Calcula la solución de una congruencia\n",
    "def solCongruencia(a, b, m):\n",
    "    #x = xgcd_real(m, a)\n",
    "    x = xgcd(m, a)\n",
    "\n",
    "    if b%x[0]:\n",
    "        return [0, 0]\n",
    "\n",
    "    else:\n",
    "        m = m // x[0]\n",
    "        b = b // x[0]\n",
    "\n",
    "        return [b*x[2]%m, m]"
   ]
  },
  {
   "cell_type": "code",
   "execution_count": 33,
   "metadata": {
    "collapsed": false
   },
   "outputs": [
   ],
   "source": [
    "# Calcula la solución de un sistema con la ayuda de la función solCongruencia\n",
    "def sistemaCongruencias(l):\n",
    "    s = [0, 1]\n",
    "\n",
    "    while len(l) > 2 and s[1]:\n",
    "        t = solCongruencia(l[0]*s[1], l[1]-l[0]*s[0], l[2])\n",
    "        s = [s[0]+s[1]*t[0], t[1]*s[1]]\n",
    "        l[0:3] = []\n",
    "\n",
    "    if s[1]:\n",
    "        return s\n",
    "\n",
    "    else:\n",
    "        return 'El sistema no tiene solucion'"
   ]
  },
  {
   "cell_type": "markdown",
   "metadata": {
    "collapsed": false
   },
   "source": [
    "## Ejercicio 5"
   ]
  },
  {
   "cell_type": "code",
   "execution_count": 34,
   "metadata": {
    "collapsed": false
   },
   "outputs": [
    {
     "name": "stdout",
     "output_type": "stream",
     "text": [
      "1100131\n",
      "4020704\n",
      "418030\n",
      "4111418\n",
      "600191\n",
      "4182222\n"
     ]
    }
   ],
   "source": [
    "n_alice_5 = 49569253\n",
    "e_alice_5 = 3\n",
    "n_bob_5 = 45729283\n",
    "e_bob_5 = 3\n",
    "n_eve_5 = 62615533\n",
    "e_eve_5 = 3\n",
    "\n",
    "m = []\n",
    "m.append(sistemaCongruencias([1, 14087331, n_alice_5, 1, 27425305, n_bob_5, 1, 62007067, n_eve_5]))\n",
    "\n",
    "m.append(sistemaCongruencias([1, 1176293, n_alice_5, 1, 14483107, n_bob_5, 1, 35550694, n_eve_5]))\n",
    "\n",
    "m.append(sistemaCongruencias([1, 46828916, n_alice_5, 1, 13942406, n_bob_5, 1, 62611116, n_eve_5]))\n",
    "\n",
    "m.append(sistemaCongruencias([1, 15244478, n_alice_5, 1, 44901956, n_bob_5, 1, 4185043, n_eve_5]))\n",
    "\n",
    "m.append(sistemaCongruencias([1, 34299711, n_alice_5, 1, 24874564, n_bob_5, 1, 52598842, n_eve_5]))\n",
    "\n",
    "m.append(sistemaCongruencias([1, 48939817, n_alice_5, 1, 7906872, n_bob_5, 1, 59059670, n_eve_5]))\n",
    "\n",
    "for i in m:\n",
    "    print(i[0].nth_root(3))"
   ]
  },
  {
   "cell_type": "code",
   "execution_count": 36,
   "metadata": {
    "collapsed": false,
    "scrolled": true
   },
   "outputs": [
   ],
   "source": [
    "mensaje = \"lanocheesdelosgatosww\""
   ]
  },
  {
   "cell_type": "code",
   "execution_count": 0,
   "metadata": {
    "collapsed": false
   },
   "outputs": [
   ],
   "source": [
   ]
  }
 ],
 "metadata": {
  "kernelspec": {
   "display_name": "SageMath 8.2",
   "language": "sagemath",
   "metadata": {
    "cocalc": {
     "description": "Open-source mathematical software system",
     "priority": 1,
     "url": "https://www.sagemath.org/"
    }
   },
   "name": "sage-8.2"
  },
  "language_info": {
   "codemirror_mode": {
    "name": "ipython",
    "version": 2
   },
   "file_extension": ".py",
   "mimetype": "text/x-python",
   "name": "python",
   "nbconvert_exporter": "python",
   "pygments_lexer": "ipython2",
   "version": "2.7.14"
  }
 },
 "nbformat": 4,
 "nbformat_minor": 0
}